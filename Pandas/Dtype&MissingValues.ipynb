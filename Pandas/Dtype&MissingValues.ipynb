{
 "cells": [
  {
   "cell_type": "markdown",
   "id": "ef363502",
   "metadata": {},
   "source": [
    "# DTYPES\n",
    "The data type for a column in a DataFrame or a Series is known as the dtype."
   ]
  },
  {
   "cell_type": "code",
   "execution_count": 2,
   "id": "52fa90a5",
   "metadata": {},
   "outputs": [],
   "source": [
    "import pandas as pd\n",
    "reviews = pd.read_csv(\"./src/winemag-data-130k-v2.csv\", index_col=0)"
   ]
  },
  {
   "cell_type": "code",
   "execution_count": 6,
   "id": "66da12ce",
   "metadata": {},
   "outputs": [
    {
     "data": {
      "text/plain": [
       "dtype('int64')"
      ]
     },
     "execution_count": 6,
     "metadata": {},
     "output_type": "execute_result"
    }
   ],
   "source": [
    "reviews.points.dtype #\n",
    "reviews.points.astype('float64') #changing dtype\n",
    "reviews.index.dtype #index has dtype\n",
    "#NaN values == float64 dtype"
   ]
  },
  {
   "cell_type": "code",
   "execution_count": 30,
   "id": "3a52189a",
   "metadata": {},
   "outputs": [],
   "source": [
    "# reviews[] pandas.isnull\n",
    "\n",
    "# pd.isnull(reviews.country) #geths the countries that are null -> series\n",
    "reviews[pd.isnull(reviews.country)]\n",
    "\n",
    "#fillna - series - df\n",
    "reviews['region_2']=reviews.region_2.fillna('Unknown')\n",
    "reviews"
   ]
  },
  {
   "cell_type": "code",
   "execution_count": 32,
   "id": "1cef7243",
   "metadata": {},
   "outputs": [
    {
     "data": {
      "text/plain": [
       "0             @kerino\n",
       "1          @vossroger\n",
       "2         @paulgwine \n",
       "3                 NaN\n",
       "4         @paulgwine \n",
       "             ...     \n",
       "129966            NaN\n",
       "129967    @paulgwine \n",
       "129968     @vossroger\n",
       "129969     @vossroger\n",
       "129970     @vossroger\n",
       "Name: taster_twitter_handle, Length: 129971, dtype: object"
      ]
     },
     "execution_count": 32,
     "metadata": {},
     "output_type": "execute_result"
    }
   ],
   "source": [
    "reviews.taster_twitter_handle.replace(\"@kerinokeefe\", \"@kerino\") #replacing"
   ]
  },
  {
   "cell_type": "code",
   "execution_count": 31,
   "id": "7f5023fc",
   "metadata": {
    "scrolled": true
   },
   "outputs": [
    {
     "data": {
      "text/plain": [
       "0                   Unknown\n",
       "1                   Unknown\n",
       "2         Willamette Valley\n",
       "3                   Unknown\n",
       "4         Willamette Valley\n",
       "                ...        \n",
       "129966              Unknown\n",
       "129967         Oregon Other\n",
       "129968              Unknown\n",
       "129969              Unknown\n",
       "129970              Unknown\n",
       "Name: region_2, Length: 129971, dtype: object"
      ]
     },
     "execution_count": 31,
     "metadata": {},
     "output_type": "execute_result"
    }
   ],
   "source": [
    "reviews.region_2"
   ]
  },
  {
   "cell_type": "code",
   "execution_count": null,
   "id": "2c3d89ba",
   "metadata": {},
   "outputs": [],
   "source": []
  },
  {
   "cell_type": "code",
   "execution_count": 34,
   "id": "995f11af",
   "metadata": {},
   "outputs": [
    {
     "data": {
      "text/plain": [
       "8996"
      ]
     },
     "execution_count": 34,
     "metadata": {},
     "output_type": "execute_result"
    }
   ],
   "source": [
    "reviews.price[reviews.price.isna()].size\n",
    "reviews.price.isna().sum() #True 1 False 0\n",
    "reviews.price.isna().count() #count every row doesn't matter if true or false"
   ]
  },
  {
   "cell_type": "code",
   "execution_count": null,
   "id": "a18a9bd4",
   "metadata": {},
   "outputs": [],
   "source": [
    "#What are the most common wine-producing regions? Create a Series counting the number of times each value occurs in the region_1 field. This field is often missing data, so replace missing values with Unknown. Sort in descending order. Your output should look something like this:\n",
    "reviews.region_1 = reviews.region_1.fillna('Unknown')   \n",
    "reviews.groupby('region_1').region_1.count().sort_values(ascending=False)#es lo mismo que lo de abajo\n",
    "reviews.groupby('region_1').size().sort_values(ascending=False) #ñpero este esta mejor \n",
    "#\n"
   ]
  }
 ],
 "metadata": {
  "kernelspec": {
   "display_name": "Python 3 (ipykernel)",
   "language": "python",
   "name": "python3"
  },
  "language_info": {
   "codemirror_mode": {
    "name": "ipython",
    "version": 3
   },
   "file_extension": ".py",
   "mimetype": "text/x-python",
   "name": "python",
   "nbconvert_exporter": "python",
   "pygments_lexer": "ipython3",
   "version": "3.11.3"
  }
 },
 "nbformat": 4,
 "nbformat_minor": 5
}
