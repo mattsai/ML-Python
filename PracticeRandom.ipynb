{
 "cells": [
  {
   "cell_type": "code",
   "execution_count": 4,
   "id": "12ee5eec",
   "metadata": {},
   "outputs": [],
   "source": [
    "from abc import ABC, abstractmethod\n",
    "\n",
    "class Product(ABC):\n",
    "    @abstractmethod\n",
    "    def operation(self):\n",
    "        pass\n",
    "\n",
    "class ConcreteProduct(Product):\n",
    "    def operation(self):\n",
    "        return \"ConcreteProduct operation\"\n",
    "\n",
    "class Creator(ABC):\n",
    "    @abstractmethod\n",
    "    def factory_method(self):\n",
    "        pass\n",
    "\n",
    "    def some_operation(self):\n",
    "        product = self.factory_method()\n",
    "        result = product.operation()\n",
    "        return result\n",
    "\n",
    "class ConcreteCreator(Creator):\n",
    "    def factory_method(self):\n",
    "        return ConcreteProduct()"
   ]
  },
  {
   "cell_type": "code",
   "execution_count": 15,
   "id": "a5ad5dd6",
   "metadata": {},
   "outputs": [
    {
     "data": {
      "text/plain": [
       "'ConcreteProduct operation'"
      ]
     },
     "execution_count": 15,
     "metadata": {},
     "output_type": "execute_result"
    }
   ],
   "source": [
    "x = ConcreteCreator()\n",
    "y = x.factory_method()\n",
    "x.some_operation()\n",
    "# x.some_operation()"
   ]
  }
 ],
 "metadata": {
  "kernelspec": {
   "display_name": "Python 3 (ipykernel)",
   "language": "python",
   "name": "python3"
  },
  "language_info": {
   "codemirror_mode": {
    "name": "ipython",
    "version": 3
   },
   "file_extension": ".py",
   "mimetype": "text/x-python",
   "name": "python",
   "nbconvert_exporter": "python",
   "pygments_lexer": "ipython3",
   "version": "3.11.3"
  }
 },
 "nbformat": 4,
 "nbformat_minor": 5
}
