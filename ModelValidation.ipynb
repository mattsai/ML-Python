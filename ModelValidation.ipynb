{
 "cells": [
  {
   "cell_type": "markdown",
   "id": "a6c2bcc7",
   "metadata": {},
   "source": [
    "Mean Absolute Error <br>\n",
    "error=actual−predicted"
   ]
  },
  {
   "cell_type": "markdown",
   "id": "f30882ea",
   "metadata": {},
   "source": [
    "Since models' practical value come from making predictions on new data, we measure performance on data that wasn't used to build the model. The most straightforward way to do this is to exclude some data from the model-building process, and then use those to test the model's accuracy on data it hasn't seen before. This data is called validation data."
   ]
  },
  {
   "cell_type": "markdown",
   "id": "79eec92d",
   "metadata": {},
   "source": [
    "Data\n",
    "X= feature_columns, the ones that will make sense for predicting\n",
    "y = the column that we want to predict\n"
   ]
  },
  {
   "cell_type": "code",
   "execution_count": 41,
   "id": "69dd98c9",
   "metadata": {},
   "outputs": [
    {
     "data": {
      "text/plain": [
       "7350.021232876712"
      ]
     },
     "execution_count": 41,
     "metadata": {},
     "output_type": "execute_result"
    }
   ],
   "source": [
    "# Data Loading Code Hidden Here\n",
    "import pandas as pd\n",
    "from sklearn.metrics import mean_absolute_error\n",
    "from sklearn.tree import DecisionTreeRegressor\n",
    "\n",
    "# Load data\n",
    "melbourne_file_path = './src/melb_data.csv'\n",
    "melbourne_data = pd.read_csv(melbourne_file_path) \n",
    "# Filter rows with missing price values\n",
    "filtered_melbourne_data = melbourne_data.dropna(axis=0)\n",
    "# Choose target and features\n",
    "y = filtered_melbourne_data.Price\n",
    "melbourne_features = ['Rooms', 'Bathroom', 'Landsize', 'BuildingArea', \n",
    "                        'YearBuilt', 'Lattitude', 'Longtitude']\n",
    "X = filtered_melbourne_data[melbourne_features]\n",
    "\n",
    "\n",
    "# Define model\n",
    "melbourne_model = DecisionTreeRegressor()\n",
    "# Fit model\n",
    "melbourne_model.fit(X, y)\n",
    "predicted_home_prices = melbourne_model.predict(X)\n",
    "mean_absolute_error(y,predicted_home_prices)\n"
   ]
  },
  {
   "cell_type": "code",
   "execution_count": 17,
   "id": "69118aef",
   "metadata": {},
   "outputs": [
    {
     "name": "stdout",
     "output_type": "stream",
     "text": [
      "262539.0413169787\n"
     ]
    }
   ],
   "source": [
    "from sklearn.model_selection import train_test_split\n",
    "\n",
    "# split data into training and validation data, for both features and target\n",
    "# The split is based on a random number generator. Supplying a numeric value to\n",
    "# the random_state argument guarantees we get the same split every time we\n",
    "# run this script.\n",
    "train_X,val_x,train_y,val_y = train_test_split(X,y,random_state=0)\n",
    "# Define model\n",
    "melbourne_model = DecisionTreeRegressor()\n",
    "# Fit model\n",
    "melbourne_model.fit(train_X, train_y)\n",
    "\n",
    "# get predicted prices on validation data\n",
    "val_predictions = melbourne_model.predict(val_x)\n",
    "print(mean_absolute_error(val_y, val_predictions))"
   ]
  },
  {
   "cell_type": "code",
   "execution_count": 30,
   "id": "6427c7e9",
   "metadata": {},
   "outputs": [
    {
     "data": {
      "text/plain": [
       "array([1139900.       , 1701375.       , 1225225.       , ...,\n",
       "        338170.       ,  524401.4486692, 2442500.       ])"
      ]
     },
     "execution_count": 30,
     "metadata": {},
     "output_type": "execute_result"
    }
   ],
   "source": [
    "scores = {}\n",
    "for leaf in [5,10,100,200,500]:\n",
    "    scores[leaf] = get_mae(leaf,train_X,val_x,train_Y,val_y )\n",
    "best_leafs = min(scores,key=scores.get)\n",
    "melbourne_model = DecisionTreeRegressor(max_leaf_nodes=best_leafs)\n",
    "melbourne_model.fit(X,y)\n",
    " # ready to get new data :D"
   ]
  },
  {
   "cell_type": "code",
   "execution_count": 11,
   "id": "ed184d27",
   "metadata": {},
   "outputs": [],
   "source": [
    "def get_mae(leaf_nodes,train_x,val_x,train_y,val_y):\n",
    "    melbourne_model = DecisionTreeRegressor(max_leaf_nodes=leaf_nodes)\n",
    "    melbourne_model.fit(train_x,train_y)\n",
    "    predictions = melbourne_model.predict(val_x)\n",
    "    mae = mean_absolute_error(val_y,predictions)\n",
    "    return (mae)"
   ]
  }
 ],
 "metadata": {
  "kernelspec": {
   "display_name": "Python 3 (ipykernel)",
   "language": "python",
   "name": "python3"
  },
  "language_info": {
   "codemirror_mode": {
    "name": "ipython",
    "version": 3
   },
   "file_extension": ".py",
   "mimetype": "text/x-python",
   "name": "python",
   "nbconvert_exporter": "python",
   "pygments_lexer": "ipython3",
   "version": "3.11.3"
  }
 },
 "nbformat": 4,
 "nbformat_minor": 5
}
